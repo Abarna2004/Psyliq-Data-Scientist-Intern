{
  "nbformat": 4,
  "nbformat_minor": 0,
  "metadata": {
    "colab": {
      "provenance": []
    },
    "kernelspec": {
      "name": "python3",
      "display_name": "Python 3"
    },
    "language_info": {
      "name": "python"
    }
  },
  "cells": [
    {
      "cell_type": "code",
      "source": [
        "import pandas as pd\n",
        "from sklearn.model_selection import train_test_split\n",
        "from sklearn.preprocessing import StandardScaler\n",
        "from sklearn.ensemble import RandomForestClassifier\n",
        "from sklearn.metrics import accuracy_score, classification_report\n",
        "\n",
        "# Load the training data\n",
        "train_data = pd.read_csv(\"titanictrain.csv\")\n",
        "\n",
        "# Drop columns that may not be useful for prediction\n",
        "X = train_data.drop(['Survived', 'PassengerId', 'Name', 'Ticket', 'Cabin'], axis=1)\n",
        "y = train_data['Survived']\n",
        "\n",
        "# Handle missing values (you may need to customize this based on your specific dataset)\n",
        "X['Age'].fillna(X['Age'].median(), inplace=True)\n",
        "X['Embarked'].fillna(X['Embarked'].mode()[0], inplace=True)\n",
        "X['Fare'].fillna(X['Fare'].median(), inplace=True)\n",
        "\n",
        "# Convert categorical variables to numerical\n",
        "X = pd.get_dummies(X, columns=['Sex', 'Embarked'], drop_first=True)\n",
        "\n",
        "# Split the data into training and testing sets\n",
        "X_train, X_test, y_train, y_test = train_test_split(X, y, test_size=0.2, random_state=42)\n",
        "\n",
        "# Standardize the features\n",
        "scaler = StandardScaler()\n",
        "X_train = scaler.fit_transform(X_train)\n",
        "X_test = scaler.transform(X_test)\n",
        "\n",
        "# Train a RandomForestClassifier\n",
        "clf = RandomForestClassifier(random_state=42)\n",
        "clf.fit(X_train, y_train)\n",
        "\n",
        "# Make predictions on the test set\n",
        "y_pred = clf.predict(X_test)\n",
        "\n",
        "# Print the classification results\n",
        "print(\"Classification Report:\")\n",
        "print(classification_report(y_test, y_pred))\n",
        "\n",
        "# Evaluate the accuracy\n",
        "accuracy = accuracy_score(y_test, y_pred)\n",
        "print(f\"Accuracy: {accuracy}\")\n",
        "\n",
        "# Print the first few rows of X_test, y_test, and y_pred\n",
        "print(\"X_test:\")\n",
        "print(pd.DataFrame(X_test, columns=X.columns).head())\n",
        "\n",
        "print(\"y_test:\")\n",
        "print(y_test.head())\n",
        "\n",
        "print(\"y_pred:\")\n",
        "print(y_pred)\n"
      ],
      "metadata": {
        "colab": {
          "base_uri": "https://localhost:8080/"
        },
        "id": "5VvS9oGgU4Ar",
        "outputId": "e41763df-cfef-43e3-cf30-d9d6d75d6283"
      },
      "execution_count": null,
      "outputs": [
        {
          "output_type": "stream",
          "name": "stdout",
          "text": [
            "Classification Report:\n",
            "              precision    recall  f1-score   support\n",
            "\n",
            "           0       0.83      0.87      0.85       105\n",
            "           1       0.80      0.76      0.78        74\n",
            "\n",
            "    accuracy                           0.82       179\n",
            "   macro avg       0.82      0.81      0.81       179\n",
            "weighted avg       0.82      0.82      0.82       179\n",
            "\n",
            "Accuracy: 0.8212290502793296\n",
            "X_test:\n",
            "     Pclass       Age     SibSp     Parch      Fare  Sex_male  Embarked_Q  \\\n",
            "0  0.813034 -0.092634  0.379923  0.784700 -0.333901  0.724310   -0.303355   \n",
            "1 -0.400551  0.138156 -0.470722 -0.479342 -0.425284  0.724310   -0.303355   \n",
            "2  0.813034 -0.708074 -0.470722 -0.479342 -0.474867  0.724310   -0.303355   \n",
            "3 -0.400551 -1.785093 -0.470722  0.784700  0.007966 -1.380624   -0.303355   \n",
            "4  0.813034 -1.169653  0.379923 -0.479342 -0.411002 -1.380624   -0.303355   \n",
            "\n",
            "   Embarked_S  \n",
            "0   -1.687794  \n",
            "1    0.592489  \n",
            "2    0.592489  \n",
            "3    0.592489  \n",
            "4   -1.687794  \n",
            "y_test:\n",
            "709    1\n",
            "439    0\n",
            "840    0\n",
            "720    1\n",
            "39     1\n",
            "Name: Survived, dtype: int64\n",
            "y_pred:\n",
            "[0 0 0 1 0 1 1 0 1 1 0 0 0 0 0 1 0 1 0 0 0 1 0 0 0 0 0 0 0 0 0 1 1 1 0 0 1\n",
            " 1 1 0 0 0 0 0 0 0 0 0 0 0 1 1 0 1 0 1 0 1 1 0 0 1 1 0 0 1 0 0 0 1 1 1 1 1\n",
            " 0 0 1 1 1 1 0 1 1 0 0 0 1 1 0 0 0 0 0 0 0 0 0 0 1 0 0 0 1 0 0 1 1 0 1 0 1\n",
            " 0 1 1 0 0 0 0 1 0 0 1 1 1 0 0 1 1 0 0 1 0 0 1 1 0 1 0 0 0 0 1 1 0 0 1 0 1\n",
            " 1 0 0 0 0 1 0 0 0 1 1 1 0 0 0 1 0 0 0 1 0 0 0 1 1 1 0 0 0 1 1]\n"
          ]
        }
      ]
    }
  ]
}
